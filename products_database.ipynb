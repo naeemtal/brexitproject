{
 "cells": [
  {
   "cell_type": "code",
   "execution_count": 2,
   "metadata": {},
   "outputs": [
    {
     "data": {
      "text/plain": [
       "'C:\\\\Users\\\\user\\\\Desktop\\\\Summer 2020\\\\Research Assistant\\\\Sandra\\\\Brexit Project 2'"
      ]
     },
     "execution_count": 2,
     "metadata": {},
     "output_type": "execute_result"
    }
   ],
   "source": [
    "import os\n",
    "import pandas as pd\n",
    "\n",
    "\n",
    "#Set working directory \n",
    "os.chdir('C:\\\\Users\\\\user\\\\Desktop\\\\Summer 2020\\\\Research Assistant\\\\Sandra\\\\Brexit Project 2')\n",
    "os.getcwd()"
   ]
  },
  {
   "cell_type": "code",
   "execution_count": 5,
   "metadata": {},
   "outputs": [],
   "source": [
    "productsdatabase = pd.read_csv('cleanedproduct.csv', sep=\",\", encoding='latin-1')"
   ]
  },
  {
   "cell_type": "code",
   "execution_count": 6,
   "metadata": {},
   "outputs": [
    {
     "data": {
      "text/html": [
       "<div>\n",
       "<style scoped>\n",
       "    .dataframe tbody tr th:only-of-type {\n",
       "        vertical-align: middle;\n",
       "    }\n",
       "\n",
       "    .dataframe tbody tr th {\n",
       "        vertical-align: top;\n",
       "    }\n",
       "\n",
       "    .dataframe thead th {\n",
       "        text-align: right;\n",
       "    }\n",
       "</style>\n",
       "<table border=\"1\" class=\"dataframe\">\n",
       "  <thead>\n",
       "    <tr style=\"text-align: right;\">\n",
       "      <th></th>\n",
       "      <th>Productdescriptiononwebsite</th>\n",
       "      <th>categoryonwebsite</th>\n",
       "      <th>websitename</th>\n",
       "      <th>Quintessential</th>\n",
       "    </tr>\n",
       "  </thead>\n",
       "  <tbody>\n",
       "    <tr>\n",
       "      <th>0</th>\n",
       "      <td>R. Whites Lemonade (330ml / 11 fl oz)</td>\n",
       "      <td>drinks</td>\n",
       "      <td>ukgoods</td>\n",
       "      <td>1</td>\n",
       "    </tr>\n",
       "    <tr>\n",
       "      <th>1</th>\n",
       "      <td>Horlicks Malted Milk Drink (500g / 17.6oz)</td>\n",
       "      <td>drinks</td>\n",
       "      <td>ukgoods</td>\n",
       "      <td>1</td>\n",
       "    </tr>\n",
       "    <tr>\n",
       "      <th>2</th>\n",
       "      <td>Ben Shaws Dandelion and Burdock Classic (330ml...</td>\n",
       "      <td>drinks</td>\n",
       "      <td>ukgoods</td>\n",
       "      <td>1</td>\n",
       "    </tr>\n",
       "    <tr>\n",
       "      <th>3</th>\n",
       "      <td>Typhoo Tea (240 Tea Bag's)</td>\n",
       "      <td>drinks</td>\n",
       "      <td>ukgoods</td>\n",
       "      <td>1</td>\n",
       "    </tr>\n",
       "    <tr>\n",
       "      <th>4</th>\n",
       "      <td>Old Jamaica Ginger Beer (330ml / 11fl oz)</td>\n",
       "      <td>drinks</td>\n",
       "      <td>ukgoods</td>\n",
       "      <td>1</td>\n",
       "    </tr>\n",
       "  </tbody>\n",
       "</table>\n",
       "</div>"
      ],
      "text/plain": [
       "                         Productdescriptiononwebsite categoryonwebsite  \\\n",
       "0              R. Whites Lemonade (330ml / 11 fl oz)            drinks   \n",
       "1         Horlicks Malted Milk Drink (500g / 17.6oz)            drinks   \n",
       "2  Ben Shaws Dandelion and Burdock Classic (330ml...            drinks   \n",
       "3                         Typhoo Tea (240 Tea Bag's)            drinks   \n",
       "4          Old Jamaica Ginger Beer (330ml / 11fl oz)            drinks   \n",
       "\n",
       "  websitename  Quintessential  \n",
       "0     ukgoods               1  \n",
       "1     ukgoods               1  \n",
       "2     ukgoods               1  \n",
       "3     ukgoods               1  \n",
       "4     ukgoods               1  "
      ]
     },
     "execution_count": 6,
     "metadata": {},
     "output_type": "execute_result"
    }
   ],
   "source": [
    "productsdatabase.head()"
   ]
  },
  {
   "cell_type": "code",
   "execution_count": 8,
   "metadata": {},
   "outputs": [
    {
     "data": {
      "text/plain": [
       "Sainsburys Salt and Vinegar Crunchy Sticks 140g                          1\n",
       "Sainsburys Dried Apricots 200g                                           1\n",
       "Cow & Gate First Infant Milk Ready to Drink (200g)                       1\n",
       "Pukka Organic After Dinner Herbal Tea x20 Tea Bags 36g                   1\n",
       "Britvic Orange Cordial 1L                                                1\n",
       "Lucozade Energy Original 6 x 380ml                                       1\n",
       "Old El Paso Cheesy Baked Enchiladas Kit 663g                             1\n",
       "JCs Jackaroo Mix 40g                                                     1\n",
       "Maoam Mao Mix (single 160g bag)                                          1\n",
       "Dobre Pickled Gherkins (900g)                                            1\n",
       "McVitie's Iced Gems 6 x 25g                                              1\n",
       "Retail Pack Wrigleys Extra Ice Gum Peppermint 10 Pieces 30 Pack          1\n",
       "Ryvita Original Crackerbread 200G                                        1\n",
       "Marks and Spencer Milk Chocolate Florentines 150g                        1\n",
       "Blue Dragon Hot Chilli Dipping Sauce 380G                                1\n",
       "Nescafe Gold Blend Freeze Dried Instant Coffee 50g                       1\n",
       "Red Bull Tropical Edition 250ml                                          1\n",
       "Funkin Rhubarb Syrup 360ml                                               1\n",
       "Foods of Athenry Gluten Free Mega Munch Muesli 450g                      1\n",
       "Create A Cake Melon Cupcake Kit 305G                                     1\n",
       "Maggi Tamarina (Tamarind sauce)-425g                                     1\n",
       "Space Raiders Beef Flavour Cosmic Corn and Wheat Snacks 25g x 36         1\n",
       "Yorkshire 160 Teabags Hard Water 500G                                    1\n",
       "Newby Rooibos Orange Herbal Tisane Tea x25 Tea Bags 50g                  1\n",
       "Sainsburys Tomato Puree 142g                                             1\n",
       "Waitrose Cooks Ingredients Kaffir Lime Leaves 1g                         1\n",
       "Carr's Pastry Batons Topped with Cheddar & Onion                         1\n",
       "Wrights Mixed Grain Bread Mix Case of 15x500g bags                       1\n",
       "Nando's Extra Extra Hot Peri-Peri Sauce 125ML                            1\n",
       "Heinz Chicken Noodle Soup 400g                                           1\n",
       "                                                                        ..\n",
       "Harvey Nichols Fruits For Cheese Plum and Port 70g                       1\n",
       "Little Dish Sweet Red Pepper Chickpea Pop Pops 17g                       1\n",
       "Eat Natural Cranberries Macadamia And Dark Chocolate Bars 3 X 45G        1\n",
       "Mr Stanleys Rose Fondant Creams 90g                                      1\n",
       "ASDA Scottish Mackerel Fillets Skinless and Boneless in Sunflower Oil    1\n",
       "Twix Biscuit Fingers 9 Pack 207G                                         1\n",
       "Biona Organic Whole Spelt Pizza Bases, 300g                              1\n",
       "John West No Drain Tuna Steak in Sunflower Oil 120g                      1\n",
       "Foxs Chocolate Rocky 8 Pack                                              1\n",
       "Dash Water Sparkling Raspberry 330ml                                     1\n",
       "Garofalo Kids Organic Pazzielle Pasta 500g                               1\n",
       "Waitrose Essential Iced Cup Cakes 6 per pack                             1\n",
       "Fever Tree Aromatic Tonic Water 500ml                                    1\n",
       "Dolmio Sauce For Bolognese Original Light 750g                           1\n",
       "English Provender Ploughmans Plum Chutney 300G                           1\n",
       "Cirio Chick Peas (410g)                                                  1\n",
       "Seeds Of Change Organic White Lasagne Pasta Sauce 470g                   1\n",
       "De Cecco Whole Wheat Linguine 500g                                       1\n",
       "Swizzels Lots of Lollies 210g                                            1\n",
       "Reeses Peanut Butter Giant Bar 192g                                      1\n",
       "Marks and Spencer Sugar Free Spearmint Bursts 18g                        1\n",
       "Ryvita Crispbread Sweet Onion 5x40g                                      1\n",
       "Maryland Mini Chocolate Chip Cookies 6 x 25g                             1\n",
       "Marks and Spencer Full On Flavour Cheese Tasters 100g                    1\n",
       "John West Lunch On The Go Salmon (220g)                                  1\n",
       "Tesco Sour Cherry Juice Drink 4x330ml                                    1\n",
       "Marks and Spencer Green Tea and Lemon 20 Teabags                         1\n",
       "Skittles Tropical Pouch 174g                                             1\n",
       "ASDA Beef Bolognese                                                      1\n",
       "Niederegger Marzipan Dark Chocolate Covered Bar 48g                      1\n",
       "Name: Productdescriptiononwebsite, Length: 30532, dtype: int64"
      ]
     },
     "execution_count": 8,
     "metadata": {},
     "output_type": "execute_result"
    }
   ],
   "source": [
    "productsdatabase.Productdescriptiononwebsite.value_counts()"
   ]
  },
  {
   "cell_type": "code",
   "execution_count": null,
   "metadata": {},
   "outputs": [],
   "source": []
  }
 ],
 "metadata": {
  "kernelspec": {
   "display_name": "Python 3",
   "language": "python",
   "name": "python3"
  },
  "language_info": {
   "codemirror_mode": {
    "name": "ipython",
    "version": 3
   },
   "file_extension": ".py",
   "mimetype": "text/x-python",
   "name": "python",
   "nbconvert_exporter": "python",
   "pygments_lexer": "ipython3",
   "version": "3.7.3"
  }
 },
 "nbformat": 4,
 "nbformat_minor": 2
}
