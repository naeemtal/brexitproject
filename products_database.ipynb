{
 "cells": [
  {
   "cell_type": "code",
   "execution_count": 3,
   "metadata": {},
   "outputs": [
    {
     "data": {
      "text/plain": [
       "'C:\\\\Users\\\\user\\\\Desktop\\\\Summer 2020\\\\Research Assistant\\\\Sandra\\\\Brexit Project 2'"
      ]
     },
     "execution_count": 3,
     "metadata": {},
     "output_type": "execute_result"
    }
   ],
   "source": [
    "import os\n",
    "import pandas as pd\n",
    "\n",
    "\n",
    "#Set working directory \n",
    "os.chdir('C:\\\\Users\\\\user\\\\Desktop\\\\Summer 2020\\\\Research Assistant\\\\Sandra\\\\Brexit Project 2')\n",
    "os.getcwd()"
   ]
  },
  {
   "cell_type": "code",
   "execution_count": 4,
   "metadata": {},
   "outputs": [],
   "source": [
    "productsdatabase = pd.read_csv('cleanedproduct.csv', sep=\",\", encoding='latin-1')"
   ]
  },
  {
   "cell_type": "code",
   "execution_count": 11,
   "metadata": {},
   "outputs": [
    {
     "data": {
      "text/html": [
       "<div>\n",
       "<style scoped>\n",
       "    .dataframe tbody tr th:only-of-type {\n",
       "        vertical-align: middle;\n",
       "    }\n",
       "\n",
       "    .dataframe tbody tr th {\n",
       "        vertical-align: top;\n",
       "    }\n",
       "\n",
       "    .dataframe thead th {\n",
       "        text-align: right;\n",
       "    }\n",
       "</style>\n",
       "<table border=\"1\" class=\"dataframe\">\n",
       "  <thead>\n",
       "    <tr style=\"text-align: right;\">\n",
       "      <th></th>\n",
       "      <th>Productdescriptiononwebsite</th>\n",
       "      <th>categoryonwebsite</th>\n",
       "      <th>websitename</th>\n",
       "      <th>Quintessential</th>\n",
       "    </tr>\n",
       "  </thead>\n",
       "  <tbody>\n",
       "    <tr>\n",
       "      <th>0</th>\n",
       "      <td>R. Whites Lemonade (330ml / 11 fl oz)</td>\n",
       "      <td>drinks</td>\n",
       "      <td>ukgoods</td>\n",
       "      <td>1</td>\n",
       "    </tr>\n",
       "    <tr>\n",
       "      <th>1</th>\n",
       "      <td>Horlicks Malted Milk Drink (500g / 17.6oz)</td>\n",
       "      <td>drinks</td>\n",
       "      <td>ukgoods</td>\n",
       "      <td>1</td>\n",
       "    </tr>\n",
       "    <tr>\n",
       "      <th>2</th>\n",
       "      <td>Ben Shaws Dandelion and Burdock Classic (330ml...</td>\n",
       "      <td>drinks</td>\n",
       "      <td>ukgoods</td>\n",
       "      <td>1</td>\n",
       "    </tr>\n",
       "    <tr>\n",
       "      <th>3</th>\n",
       "      <td>Typhoo Tea (240 Tea Bag's)</td>\n",
       "      <td>drinks</td>\n",
       "      <td>ukgoods</td>\n",
       "      <td>1</td>\n",
       "    </tr>\n",
       "    <tr>\n",
       "      <th>4</th>\n",
       "      <td>Old Jamaica Ginger Beer (330ml / 11fl oz)</td>\n",
       "      <td>drinks</td>\n",
       "      <td>ukgoods</td>\n",
       "      <td>1</td>\n",
       "    </tr>\n",
       "    <tr>\n",
       "      <th>5</th>\n",
       "      <td>Robinson's Lemon Barley Water (850ml / 28.7floz)</td>\n",
       "      <td>drinks</td>\n",
       "      <td>ukgoods</td>\n",
       "      <td>1</td>\n",
       "    </tr>\n",
       "    <tr>\n",
       "      <th>6</th>\n",
       "      <td>Schweppes Original Bitter Lemon (1ltr / 33.8fl...</td>\n",
       "      <td>drinks</td>\n",
       "      <td>ukgoods</td>\n",
       "      <td>1</td>\n",
       "    </tr>\n",
       "    <tr>\n",
       "      <th>7</th>\n",
       "      <td>Typhoo Tea Bags (80 teabags) *Best Before Janu...</td>\n",
       "      <td>drinks</td>\n",
       "      <td>ukgoods</td>\n",
       "      <td>1</td>\n",
       "    </tr>\n",
       "    <tr>\n",
       "      <th>8</th>\n",
       "      <td>PG Tips Loose Black Tea (250g / 8.8 oz)</td>\n",
       "      <td>drinks</td>\n",
       "      <td>ukgoods</td>\n",
       "      <td>1</td>\n",
       "    </tr>\n",
       "    <tr>\n",
       "      <th>9</th>\n",
       "      <td>Robinson's Barley Water Peach (1Ltr / 33.8 fl oz)</td>\n",
       "      <td>drinks</td>\n",
       "      <td>ukgoods</td>\n",
       "      <td>1</td>\n",
       "    </tr>\n",
       "  </tbody>\n",
       "</table>\n",
       "</div>"
      ],
      "text/plain": [
       "                         Productdescriptiononwebsite categoryonwebsite  \\\n",
       "0              R. Whites Lemonade (330ml / 11 fl oz)            drinks   \n",
       "1         Horlicks Malted Milk Drink (500g / 17.6oz)            drinks   \n",
       "2  Ben Shaws Dandelion and Burdock Classic (330ml...            drinks   \n",
       "3                         Typhoo Tea (240 Tea Bag's)            drinks   \n",
       "4          Old Jamaica Ginger Beer (330ml / 11fl oz)            drinks   \n",
       "5   Robinson's Lemon Barley Water (850ml / 28.7floz)            drinks   \n",
       "6  Schweppes Original Bitter Lemon (1ltr / 33.8fl...            drinks   \n",
       "7  Typhoo Tea Bags (80 teabags) *Best Before Janu...            drinks   \n",
       "8            PG Tips Loose Black Tea (250g / 8.8 oz)            drinks   \n",
       "9  Robinson's Barley Water Peach (1Ltr / 33.8 fl oz)            drinks   \n",
       "\n",
       "  websitename  Quintessential  \n",
       "0     ukgoods               1  \n",
       "1     ukgoods               1  \n",
       "2     ukgoods               1  \n",
       "3     ukgoods               1  \n",
       "4     ukgoods               1  \n",
       "5     ukgoods               1  \n",
       "6     ukgoods               1  \n",
       "7     ukgoods               1  \n",
       "8     ukgoods               1  \n",
       "9     ukgoods               1  "
      ]
     },
     "execution_count": 11,
     "metadata": {},
     "output_type": "execute_result"
    }
   ],
   "source": [
    "productsdatabase.head(10)"
   ]
  },
  {
   "cell_type": "code",
   "execution_count": 73,
   "metadata": {},
   "outputs": [
    {
     "data": {
      "text/plain": [
       "Coca Cola Regular 8 x 250ml Plastic Bottles              1\n",
       "ASDA Spaghetti Loops in Tomato Sauce                     1\n",
       "Robinsons Fruit Shoot Orange, Low Sugar 8x200ml          1\n",
       "Biofair Organic Fairtrade Red Quinoa Grain, 500g         1\n",
       "Biona Organic Spelt Wholegrain Spaghetti 500g            1\n",
       "Kellogg's Pop Tarts Strawberry Sensation (8x50g)         1\n",
       "Nairns Gluten Free Biscuit Breaks Oats & Fruit (160g)    1\n",
       "Tesco Pineapple Juice 1 Litre Carton                     1\n",
       "Heinz 12 Month Mums Own Tray Meal Cottage Pie (230g)     1\n",
       "Sainsburys Cake Decorations Party Sprinkles 83g          1\n",
       "Name: Productdescriptiononwebsite, dtype: int64"
      ]
     },
     "execution_count": 73,
     "metadata": {},
     "output_type": "execute_result"
    }
   ],
   "source": [
    "productsdatabase.Productdescriptiononwebsite.value_counts().head(10)"
   ]
  },
  {
   "cell_type": "code",
   "execution_count": 74,
   "metadata": {},
   "outputs": [],
   "source": [
    "n_rows, n_col = productsdatabase.shape"
   ]
  },
  {
   "cell_type": "code",
   "execution_count": 75,
   "metadata": {},
   "outputs": [],
   "source": [
    "products_info = list(productsdatabase['Productdescriptiononwebsite'].values)"
   ]
  },
  {
   "cell_type": "code",
   "execution_count": 76,
   "metadata": {
    "scrolled": true
   },
   "outputs": [],
   "source": [
    "# CREATING SPLIT PRODUCT DATABASE\n",
    "count_no_match = 0\n",
    "count_no_breaker = 0\n",
    "product_main = []\n",
    "product_other = []\n",
    "\n",
    "for i in range(len(products_info)):\n",
    "    pos_bracket = 0\n",
    "    pos_slash = 0\n",
    "    # seems that only slash and bracket indicate weight stuff\n",
    "    if \"(\" or \"/\" in products_info[i]:\n",
    "        split = products_info[i].split(\" \")\n",
    "        for j in range(len(split)):\n",
    "            if \"(\" in split[j]:\n",
    "                pos_bracket = j\n",
    "            if \"/\" in split[j]:\n",
    "                pos_slash = j\n",
    "                \n",
    "        # get the index of which comes earlier: slash or bracket?\n",
    "        if pos_bracket > 0 and pos_slash > 0:\n",
    "            breaker = min(pos_bracket, pos_slash)\n",
    "        elif pos_bracket > 0:\n",
    "            breaker = pos_bracket\n",
    "        elif pos_slash > 0:\n",
    "            breaker = pos_slash\n",
    "        else:\n",
    "            breaker = 0\n",
    "        \n",
    "        if breaker > 0:\n",
    "            string_main = \"\"\n",
    "            string_other = \"\"\n",
    "            \n",
    "            for k in range(breaker):\n",
    "                string_main += \" \" + split[k]\n",
    "                \n",
    "            for l in range(breaker, len(split)):\n",
    "                string_other += \" \" + split[l]\n",
    "                           \n",
    "            product_main.append(string_main)\n",
    "            product_other.append(string_other)\n",
    "        \n",
    "        else:\n",
    "            product_main.append(products_info[i])\n",
    "            product_other.append(\"\")\n",
    "            #print(\"No breaker:\" + \" \" + products_info[i])\n",
    "            count_no_breaker += 1\n",
    "    else:\n",
    "        count_no_match += 1\n",
    "        #print(\"No match:\" + \" \" + products_info[i])            "
   ]
  },
  {
   "cell_type": "code",
   "execution_count": 77,
   "metadata": {},
   "outputs": [
    {
     "data": {
      "text/html": [
       "<div>\n",
       "<style scoped>\n",
       "    .dataframe tbody tr th:only-of-type {\n",
       "        vertical-align: middle;\n",
       "    }\n",
       "\n",
       "    .dataframe tbody tr th {\n",
       "        vertical-align: top;\n",
       "    }\n",
       "\n",
       "    .dataframe thead th {\n",
       "        text-align: right;\n",
       "    }\n",
       "</style>\n",
       "<table border=\"1\" class=\"dataframe\">\n",
       "  <thead>\n",
       "    <tr style=\"text-align: right;\">\n",
       "      <th></th>\n",
       "      <th>Productdescriptiononwebsite</th>\n",
       "      <th>Product Main</th>\n",
       "      <th>Product Other</th>\n",
       "      <th>categoryonwebsite</th>\n",
       "      <th>websitename</th>\n",
       "      <th>Quintessential</th>\n",
       "    </tr>\n",
       "  </thead>\n",
       "  <tbody>\n",
       "    <tr>\n",
       "      <th>0</th>\n",
       "      <td>R. Whites Lemonade (330ml / 11 fl oz)</td>\n",
       "      <td>R. Whites Lemonade</td>\n",
       "      <td>(330ml / 11 fl oz)</td>\n",
       "      <td>drinks</td>\n",
       "      <td>ukgoods</td>\n",
       "      <td>1</td>\n",
       "    </tr>\n",
       "    <tr>\n",
       "      <th>1</th>\n",
       "      <td>Horlicks Malted Milk Drink (500g / 17.6oz)</td>\n",
       "      <td>Horlicks Malted Milk Drink</td>\n",
       "      <td>(500g / 17.6oz)</td>\n",
       "      <td>drinks</td>\n",
       "      <td>ukgoods</td>\n",
       "      <td>1</td>\n",
       "    </tr>\n",
       "    <tr>\n",
       "      <th>2</th>\n",
       "      <td>Ben Shaws Dandelion and Burdock Classic (330ml...</td>\n",
       "      <td>Ben Shaws Dandelion and Burdock Classic</td>\n",
       "      <td>(330ml / 11.15 fl oz)</td>\n",
       "      <td>drinks</td>\n",
       "      <td>ukgoods</td>\n",
       "      <td>1</td>\n",
       "    </tr>\n",
       "    <tr>\n",
       "      <th>3</th>\n",
       "      <td>Typhoo Tea (240 Tea Bag's)</td>\n",
       "      <td>Typhoo Tea</td>\n",
       "      <td>(240 Tea Bag's)</td>\n",
       "      <td>drinks</td>\n",
       "      <td>ukgoods</td>\n",
       "      <td>1</td>\n",
       "    </tr>\n",
       "    <tr>\n",
       "      <th>4</th>\n",
       "      <td>Old Jamaica Ginger Beer (330ml / 11fl oz)</td>\n",
       "      <td>Old Jamaica Ginger Beer</td>\n",
       "      <td>(330ml / 11fl oz)</td>\n",
       "      <td>drinks</td>\n",
       "      <td>ukgoods</td>\n",
       "      <td>1</td>\n",
       "    </tr>\n",
       "    <tr>\n",
       "      <th>5</th>\n",
       "      <td>Robinson's Lemon Barley Water (850ml / 28.7floz)</td>\n",
       "      <td>Robinson's Lemon Barley Water</td>\n",
       "      <td>(850ml / 28.7floz)</td>\n",
       "      <td>drinks</td>\n",
       "      <td>ukgoods</td>\n",
       "      <td>1</td>\n",
       "    </tr>\n",
       "    <tr>\n",
       "      <th>6</th>\n",
       "      <td>Schweppes Original Bitter Lemon (1ltr / 33.8fl...</td>\n",
       "      <td>Schweppes Original Bitter Lemon</td>\n",
       "      <td>(1ltr / 33.8fl oz)</td>\n",
       "      <td>drinks</td>\n",
       "      <td>ukgoods</td>\n",
       "      <td>1</td>\n",
       "    </tr>\n",
       "    <tr>\n",
       "      <th>7</th>\n",
       "      <td>Typhoo Tea Bags (80 teabags) *Best Before Janu...</td>\n",
       "      <td>Typhoo Tea Bags</td>\n",
       "      <td>(80 teabags) *Best Before January 31, 2020*</td>\n",
       "      <td>drinks</td>\n",
       "      <td>ukgoods</td>\n",
       "      <td>1</td>\n",
       "    </tr>\n",
       "    <tr>\n",
       "      <th>8</th>\n",
       "      <td>PG Tips Loose Black Tea (250g / 8.8 oz)</td>\n",
       "      <td>PG Tips Loose Black Tea</td>\n",
       "      <td>(250g / 8.8 oz)</td>\n",
       "      <td>drinks</td>\n",
       "      <td>ukgoods</td>\n",
       "      <td>1</td>\n",
       "    </tr>\n",
       "    <tr>\n",
       "      <th>9</th>\n",
       "      <td>Robinson's Barley Water Peach (1Ltr / 33.8 fl oz)</td>\n",
       "      <td>Robinson's Barley Water Peach</td>\n",
       "      <td>(1Ltr / 33.8 fl oz)</td>\n",
       "      <td>drinks</td>\n",
       "      <td>ukgoods</td>\n",
       "      <td>1</td>\n",
       "    </tr>\n",
       "  </tbody>\n",
       "</table>\n",
       "</div>"
      ],
      "text/plain": [
       "                         Productdescriptiononwebsite  \\\n",
       "0              R. Whites Lemonade (330ml / 11 fl oz)   \n",
       "1         Horlicks Malted Milk Drink (500g / 17.6oz)   \n",
       "2  Ben Shaws Dandelion and Burdock Classic (330ml...   \n",
       "3                         Typhoo Tea (240 Tea Bag's)   \n",
       "4          Old Jamaica Ginger Beer (330ml / 11fl oz)   \n",
       "5   Robinson's Lemon Barley Water (850ml / 28.7floz)   \n",
       "6  Schweppes Original Bitter Lemon (1ltr / 33.8fl...   \n",
       "7  Typhoo Tea Bags (80 teabags) *Best Before Janu...   \n",
       "8            PG Tips Loose Black Tea (250g / 8.8 oz)   \n",
       "9  Robinson's Barley Water Peach (1Ltr / 33.8 fl oz)   \n",
       "\n",
       "                               Product Main  \\\n",
       "0                        R. Whites Lemonade   \n",
       "1                Horlicks Malted Milk Drink   \n",
       "2   Ben Shaws Dandelion and Burdock Classic   \n",
       "3                                Typhoo Tea   \n",
       "4                   Old Jamaica Ginger Beer   \n",
       "5             Robinson's Lemon Barley Water   \n",
       "6           Schweppes Original Bitter Lemon   \n",
       "7                           Typhoo Tea Bags   \n",
       "8                   PG Tips Loose Black Tea   \n",
       "9             Robinson's Barley Water Peach   \n",
       "\n",
       "                                  Product Other categoryonwebsite websitename  \\\n",
       "0                            (330ml / 11 fl oz)            drinks     ukgoods   \n",
       "1                               (500g / 17.6oz)            drinks     ukgoods   \n",
       "2                         (330ml / 11.15 fl oz)            drinks     ukgoods   \n",
       "3                               (240 Tea Bag's)            drinks     ukgoods   \n",
       "4                             (330ml / 11fl oz)            drinks     ukgoods   \n",
       "5                            (850ml / 28.7floz)            drinks     ukgoods   \n",
       "6                            (1ltr / 33.8fl oz)            drinks     ukgoods   \n",
       "7   (80 teabags) *Best Before January 31, 2020*            drinks     ukgoods   \n",
       "8                               (250g / 8.8 oz)            drinks     ukgoods   \n",
       "9                           (1Ltr / 33.8 fl oz)            drinks     ukgoods   \n",
       "\n",
       "   Quintessential  \n",
       "0               1  \n",
       "1               1  \n",
       "2               1  \n",
       "3               1  \n",
       "4               1  \n",
       "5               1  \n",
       "6               1  \n",
       "7               1  \n",
       "8               1  \n",
       "9               1  "
      ]
     },
     "execution_count": 77,
     "metadata": {},
     "output_type": "execute_result"
    }
   ],
   "source": [
    "# SPLIT PRODUCT DATA BASE\n",
    "productsdatabase['Product Main'] = product_main\n",
    "productsdatabase['Product Other'] = product_other\n",
    "productsdatabase = productsdatabase[['Productdescriptiononwebsite', 'Product Main', 'Product Other', 'categoryonwebsite', 'websitename', 'Quintessential']]\n",
    "productsdatabase.head(10)"
   ]
  },
  {
   "cell_type": "code",
   "execution_count": 63,
   "metadata": {},
   "outputs": [
    {
     "data": {
      "text/plain": [
       "\"Typhoo Tea (240 Tea Bag's)\""
      ]
     },
     "execution_count": 63,
     "metadata": {},
     "output_type": "execute_result"
    }
   ],
   "source": [
    "# TEST -- NOT IMPORTANT \n",
    "test_case = products_info[3]\n",
    "test_case"
   ]
  },
  {
   "cell_type": "code",
   "execution_count": 64,
   "metadata": {},
   "outputs": [
    {
     "data": {
      "text/plain": [
       "['Typhoo', 'Tea', '(240', 'Tea', \"Bag's)\"]"
      ]
     },
     "execution_count": 64,
     "metadata": {},
     "output_type": "execute_result"
    }
   ],
   "source": [
    "pos_bracket = 0\n",
    "pos_slash = 0\n",
    "# seems that only slash and bracket indicate weight stuff\n",
    "if \"(\" or \"/\" in test_case:\n",
    "    split = test_case.split(\" \")\n",
    "    for j in range(len(split)):\n",
    "        if \"(\" in split[j]:\n",
    "            pos_bracket = j\n",
    "        if \"/\" in split[j]:\n",
    "            pos_slash = j\n",
    "split"
   ]
  },
  {
   "cell_type": "code",
   "execution_count": 65,
   "metadata": {},
   "outputs": [
    {
     "data": {
      "text/plain": [
       "0"
      ]
     },
     "execution_count": 65,
     "metadata": {},
     "output_type": "execute_result"
    }
   ],
   "source": [
    "breaker = min(pos_bracket, pos_slash)\n",
    "breaker\n"
   ]
  },
  {
   "cell_type": "code",
   "execution_count": 59,
   "metadata": {},
   "outputs": [],
   "source": [
    "        if breaker > 0:\n",
    "            string_main = \"\"\n",
    "            string_other = \"\"\n",
    "            \n",
    "            for k in range(breaker):\n",
    "                string_main += \" \" + split[k]\n",
    "                \n",
    "            for l in range(breaker, len(split)):\n",
    "                string_other += \" \" + split[l]\n",
    "                           \n",
    "            product_main.append(string_main.strip())\n",
    "            product_other.append(string_other.lstrip())\n",
    "        \n",
    "        else:\n",
    "            product_main.append(products_info[i])\n",
    "            product_other.append(\"\")\n",
    "            print(\"No breaker:\" + \" \" + products_info[i])\n",
    "            count_no_breaker += 1"
   ]
  },
  {
   "cell_type": "code",
   "execution_count": 60,
   "metadata": {},
   "outputs": [
    {
     "data": {
      "text/plain": [
       "' Horlicks Malted Milk Drink'"
      ]
     },
     "execution_count": 60,
     "metadata": {},
     "output_type": "execute_result"
    }
   ],
   "source": [
    "string_main"
   ]
  },
  {
   "cell_type": "code",
   "execution_count": 61,
   "metadata": {},
   "outputs": [
    {
     "data": {
      "text/plain": [
       "' (500g / 17.6oz)'"
      ]
     },
     "execution_count": 61,
     "metadata": {},
     "output_type": "execute_result"
    }
   ],
   "source": [
    "string_other"
   ]
  },
  {
   "cell_type": "code",
   "execution_count": null,
   "metadata": {},
   "outputs": [],
   "source": []
  }
 ],
 "metadata": {
  "kernelspec": {
   "display_name": "Python 3",
   "language": "python",
   "name": "python3"
  },
  "language_info": {
   "codemirror_mode": {
    "name": "ipython",
    "version": 3
   },
   "file_extension": ".py",
   "mimetype": "text/x-python",
   "name": "python",
   "nbconvert_exporter": "python",
   "pygments_lexer": "ipython3",
   "version": "3.7.3"
  }
 },
 "nbformat": 4,
 "nbformat_minor": 2
}
